{
 "cells": [
  {
   "cell_type": "markdown",
   "metadata": {},
   "source": [
    "#### 用keras的vgg模型实现在cifar10的迁移学习\n",
    "\n",
    "\n",
    "-  参考:\n",
    "    > [keras Application](https://keras-cn.readthedocs.io/en/latest/other/application/)  \n",
    "    > [使用 Google Inception V3模型进行迁移学习](https://imyong.top/2018/05/30/Inception-V3-implementation-17-flowers-classes/#4.%E7%94%A8Google-Inception-V3-%E6%A8%A1%E5%9E%8B%E5%81%9A%E8%BF%81%E7%A7%BB%E5%AD%A6%E4%B9%A0)  \n",
    "    > [kaggle](https://www.kaggle.com/xhlulu/vgg-16-on-cifar10-with-keras-beginner) \n",
    "    "
   ]
  },
  {
   "cell_type": "markdown",
   "metadata": {},
   "source": [
    "#### 1.处理数据"
   ]
  },
  {
   "cell_type": "code",
   "execution_count": null,
   "metadata": {},
   "outputs": [],
   "source": [
    "import os\n",
    "import json\n",
    "import pickle\n",
    "\n",
    "import numpy as np\n",
    "import pandas as pd\n",
    "import matplotlib.pyplot as plt\n",
    "from keras.applications.vgg16 import preprocess_input\n",
    "from keras.utils import to_categorical\n",
    "\n",
    "\n",
    "def unpickle(file, encoding='bytes'):\n",
    "    with open(file, 'rb') as f:\n",
    "        di = pickle.load(f, encoding=encoding)\n",
    "    return di\n",
    "\n",
    "\n",
    "batch_labels = []\n",
    "batch_images = []\n",
    "\n",
    "for n in range(1, 6):\n",
    "    batch_dict = unpickle(f\"/input0/cifar-10-batches-py/data_batch_{n}\")\n",
    "    # Add labels to the list of batch labels\n",
    "    batch_labels.append(batch_dict[b'labels'])\n",
    "\n",
    "    # Load the images, and resize them to 10000x3x32x32\n",
    "    data = batch_dict[b'data'].reshape((10000, 3, 32, 32))\n",
    "    # Modify axis to be 10000x32x32x3, since this is the correct order for keras\n",
    "    data = np.moveaxis(data, 1, -1)\n",
    "    batch_images.append(data)\n",
    "\n",
    "labels = np.concatenate(batch_labels, axis=0)\n",
    "images = np.concatenate(batch_images, axis=0)\n",
    "\n",
    "test_dict = unpickle(f\"/input0/cifar-10-batches-py/test_batch\")\n",
    "test_labels = np.array(test_dict[b'labels'])\n",
    "test_images = test_dict[b'data'].reshape((10000,3,32,32))\n",
    "test_images = np.moveaxis(test_images, 1, -1)\n",
    "\n",
    "\n",
    "# We normalize the input according to the methods used in the paper\n",
    "X_train = preprocess_input(images)\n",
    "y_train = to_categorical(labels)\n",
    "\n",
    "# We one-hot-encode the labels for training\n",
    "X_test = preprocess_input(test_images)\n",
    "y_test = to_categorical(test_labels)\n"
   ]
  },
  {
   "cell_type": "markdown",
   "metadata": {},
   "source": [
    "#### 2.模型\n",
    "> 提取出了vgg16的卷积层，增加了两个全连接层，在训练的时候vgg16的卷积层参数不参与训练"
   ]
  },
  {
   "cell_type": "code",
   "execution_count": null,
   "metadata": {},
   "outputs": [],
   "source": [
    "from keras.applications.vgg16 import VGG16\n",
    "from keras.layers import Dense\n",
    "from keras.models import Model\n",
    "from keras.preprocessing import image\n",
    "from keras.applications.vgg16 import preprocess_input\n",
    "from keras.layers import Dense, GlobalAveragePooling2D\n",
    "from keras.callbacks import ModelCheckpoint\n",
    "import numpy as np\n",
    "\n",
    "base_model = VGG16(weights='imagenet', include_top=False)\n",
    "\n",
    "# base_model.summary()\n",
    "\n",
    "x=base_model.output\n",
    "x = GlobalAveragePooling2D()(x)\n",
    "x=Dense(512,activation='relu')(x)\n",
    "predictions=Dense(10,activation='softmax')(x)\n",
    "\n",
    "\n",
    "model=Model(inputs=base_model.input,outputs=predictions)\n",
    "for layer in base_model.layers:\n",
    "    layer.trainable=False\n",
    "model.summary()\n",
    "\n",
    "model.compile(optimizer='sgd',loss='categorical_crossentropy')\n",
    "# a=model.predict(np.array([X_train[0]]))\n",
    "# print(a)\n",
    "# print(a.shape)\n",
    "# print(y_train[0].shape)\n",
    "checkpoint = ModelCheckpoint(\n",
    "    'model.h5',\n",
    "    monitor='val_acc',\n",
    "    verbose=0,\n",
    "    save_best_only=True,\n",
    "    save_weights_only=False,\n",
    "    mode='auto'\n",
    ")\n",
    "history=model.fit(X_train,y=y_train,validation_split=0.1,batch_size=200,epochs=10,callbacks=[checkpoint])\n",
    "model.evaluate(x=X_test,y=y_test)\n",
    "\n"
   ]
  }
 ],
 "metadata": {
  "kernelspec": {
   "display_name": "Python 3",
   "language": "python",
   "name": "python3"
  },
  "language_info": {
   "codemirror_mode": {
    "name": "ipython",
    "version": 3
   },
   "file_extension": ".py",
   "mimetype": "text/x-python",
   "name": "python",
   "nbconvert_exporter": "python",
   "pygments_lexer": "ipython3",
   "version": "3.6.5"
  }
 },
 "nbformat": 4,
 "nbformat_minor": 2
}
